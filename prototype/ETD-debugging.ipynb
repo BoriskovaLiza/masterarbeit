{
 "cells": [
  {
   "cell_type": "code",
   "execution_count": 1,
   "id": "54c1da35",
   "metadata": {},
   "outputs": [],
   "source": [
    "import numpy as np\n",
    "import mySDC"
   ]
  },
  {
   "cell_type": "code",
   "execution_count": 2,
   "id": "72a59fd6",
   "metadata": {
    "scrolled": false
   },
   "outputs": [],
   "source": [
    "# equidistant nodes, phi functions\n",
    "t0 = 1.0\n",
    "u0 = 1.0 + 0.j\n",
    "steps = 5\n",
    "\n",
    "timestep = 0.1\n",
    "t = np.linspace(t0, t0 + timestep*(steps-1), steps)\n",
    "\n",
    "dt = t[1:] - t[:-1]\n",
    "N = steps-2\n",
    "\n",
    "L = 1.\n",
    "w, phi0, phi1 = mySDC.generate_weights(N, t[0:N+2], dt[0:N+1], L)\n",
    "# should be 0\n",
    "assert np.all(phi0 - np.exp(dt[0:N+2] * L) < 1e-16), \"oops\"\n",
    "assert np.all(phi1 - (np.exp(dt[0:N+2] * L) - 1.) / (dt[0:N+2] * L) < 1e-16), \"oops\"\n",
    "\n",
    "# if l1=0 (N=I) then integral should produce substeps\n",
    "L = 0.\n",
    "w, phi0, phi1 = mySDC.generate_weights(N, t[0:N+2], dt[0:N+1], L)\n",
    "assert np.all(np.sum(w, axis=1) - dt < 1e-16), \"oops\""
   ]
  },
  {
   "cell_type": "code",
   "execution_count": 4,
   "id": "873ef1a3",
   "metadata": {},
   "outputs": [
    {
     "name": "stdout",
     "output_type": "stream",
     "text": [
      "[1.  1.1 1.2 1.3 1.4] [0.1 0.1 0.1 0.1]\n",
      "      [0.525 0.575 0.625 0.675]\n",
      "true: [0.525 0.575 0.625 0.675]\n",
      "      [0.55166667 0.66166667 0.78166667 0.91166667]\n",
      "true: [0.55166667 0.66166667 0.78166667 0.91166667]\n",
      "      [1.42942067 1.57975462 1.7458986  1.92951682]\n",
      "true: [1.42942098 1.57975449 1.74589872 1.9295165 ]\n"
     ]
    }
   ],
   "source": [
    "# on equidistant\n",
    "L1 = 0.\n",
    "L2 = 5.\n",
    "print(t, dt)\n",
    "\n",
    "w, phi0, phi1 = mySDC.generate_weights(N, t[0:N+2], dt[0:N+1], L1)\n",
    "\n",
    "# N = l2*t\n",
    "N_ = t[0:N+2] * L2\n",
    "\n",
    "print(\"     \", np.dot(w,  N_).real)\n",
    "print(\"true:\", L2 / 2 * (t[1:]**2 - t[:-1]**2))\n",
    "    #assert np.isclose([diff], [0.0]), \"ooops\"\n",
    "    \n",
    "# N = l2*t**2\n",
    "N_ = t[0:N+2]**2 * L2\n",
    "\n",
    "print(\"     \", np.dot(w,  N_).real)\n",
    "print(\"true:\", L2 / 3 * (t[1:]**3 - t[:-1]**3))\n",
    "    #assert np.isclose([diff], [0.0]), \"ooops\"\n",
    "    \n",
    "# N = l2*exp(t)\n",
    "N_ = np.exp(t[0:N+2]) * L2\n",
    "print(\"     \", np.dot(w,  N_).real)\n",
    "print(\"true:\", L2 * (np.exp(t[1:]) - np.exp(t[:-1])))"
   ]
  },
  {
   "cell_type": "code",
   "execution_count": 8,
   "id": "b8ba6fd3",
   "metadata": {},
   "outputs": [],
   "source": [
    "# Chebyshev\n",
    "t0 = 0.0\n",
    "u0 = 1.0 + 0.j\n",
    "steps = 5\n",
    "N = steps-2\n",
    "\n",
    "timestep = 1.\n",
    "t = np.linspace(t0, t0 + timestep*(steps-1), steps)\n",
    "\n",
    "Ti = (N+1) * (steps-1) + 1\n",
    "tau = np.zeros((Ti))\n",
    "taui, _ = np.polynomial.chebyshev.chebgauss(N)\n",
    "    \n",
    "for i in range(steps-1):\n",
    "    tau[(N+1)*i] = t[i]\n",
    "    tau[(N+1)*i+1:(N+1)*i+(N+1)] = taui[::-1] / 2 * timestep + timestep / 2 + t[i]\n",
    "tau[-1] = t[steps-1]    \n",
    "dtau = tau[1:] - tau[:-1]\n",
    "\n",
    "L = 1.\n",
    "w, phi0, phi1 = mySDC.generate_weights(N, tau[0:N+2], dtau[0:N+1], L)\n",
    "\n",
    "# should be 0\n",
    "assert np.all(phi0 - np.exp(dtau[0:N+1] * L) < 1e-6), \"oops\"\n",
    "assert np.all(phi1 - (np.exp(dtau[0:N+1] * L) - 1.) / (dtau[0:N+1] * L) < 1e-6), \"oops\"\n",
    "\n",
    "# if l1=0 (N=I) then integral should produce substeps\n",
    "L = 0.\n",
    "w, phi0, phi1 = mySDC.generate_weights(N, tau[0:N+2], dtau[0:N+1], L)\n",
    "assert np.all(np.sum(w, axis=1) - dtau[0:N+1] < 1e-6), \"oops\""
   ]
  },
  {
   "cell_type": "code",
   "execution_count": 14,
   "id": "bb6df7c6",
   "metadata": {},
   "outputs": [
    {
     "name": "stdout",
     "output_type": "stream",
     "text": [
      "[0.        0.0669873 0.5       0.9330127 1.       ] [0.0669873 0.4330127 0.4330127 0.0669873]\n",
      "      [0.20096189 1.29903811 1.29903811 0.20096189]\n",
      "true: [0.20096189 1.29903811 1.29903811 0.20096189]\n",
      "      [0.00673095 0.36826905 0.93076905 0.19423095]\n",
      "true: [0.00673095 0.36826905 0.93076905 0.19423095]\n",
      "      [3.00591976e-04 1.24699408e-01 6.87199408e-01 1.87800592e-01]\n",
      "true: [3.00591976e-04 1.24699408e-01 6.87199408e-01 1.87800592e-01]\n",
      "      [0.2078449  1.73838446 2.68023432 0.52837717]\n",
      "true: [0.20784569 1.73831812 2.68030542 0.52837625]\n"
     ]
    }
   ],
   "source": [
    "L1 = 0.\n",
    "L2 = 3.\n",
    "print(tau[0:N+2], dtau[0:N+1])\n",
    "\n",
    "w, phi0, phi1 = mySDC.generate_weights(N, tau[0:N+2], dtau[0:N+1], L1)\n",
    "\n",
    "# N = l2\n",
    "N_ = tau[0:N+2] * 0. + L2\n",
    "print(\"     \", np.dot(w,  N_).real)\n",
    "print(\"true:\", L2 * dtau[:N+1])\n",
    "\n",
    "# N = l2*t\n",
    "N_ = tau[0:N+2] * L2\n",
    "print(\"     \", np.dot(w,  N_).real)\n",
    "print(\"true:\", L2 / 2 * (tau[1:N+2]**2 - tau[:N+1]**2))\n",
    "\n",
    "# N = l2*t**2\n",
    "N_ = tau[0:N+2]**2 * L2\n",
    "print(\"     \", np.dot(w,  N_).real)\n",
    "print(\"true:\", L2 / 3 * (tau[1:N+2]**3 - tau[:N+1]**3))\n",
    "\n",
    "# N = l2*exp(t)\n",
    "N_ = np.exp(tau[0:N+2]) * L2\n",
    "print(\"     \", np.dot(w,  N_).real)\n",
    "print(\"true:\", L2 * (np.exp(tau[1:N+2]) - np.exp(tau[:N+1])))"
   ]
  },
  {
   "cell_type": "code",
   "execution_count": null,
   "id": "ce751d57",
   "metadata": {},
   "outputs": [],
   "source": []
  }
 ],
 "metadata": {
  "kernelspec": {
   "display_name": "Python 3 (ipykernel)",
   "language": "python",
   "name": "python3"
  },
  "language_info": {
   "codemirror_mode": {
    "name": "ipython",
    "version": 3
   },
   "file_extension": ".py",
   "mimetype": "text/x-python",
   "name": "python",
   "nbconvert_exporter": "python",
   "pygments_lexer": "ipython3",
   "version": "3.10.13"
  }
 },
 "nbformat": 4,
 "nbformat_minor": 5
}
