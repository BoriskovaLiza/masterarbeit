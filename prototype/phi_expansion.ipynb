{
 "cells": [
  {
   "cell_type": "markdown",
   "id": "db5fe550",
   "metadata": {},
   "source": [
    "#### python generation"
   ]
  },
  {
   "cell_type": "code",
   "execution_count": 1,
   "id": "6d543344",
   "metadata": {},
   "outputs": [],
   "source": [
    "import numpy as np\n",
    "\n",
    "def gen_explicit_formulae(n):\n",
    "    I = np.math.factorial(n-1)\n",
    "    denom = \"/(\" + str(I) + \"*z**\" + str(n) + \")\"\n",
    "    num = str(I) + \"*np.exp(z) - \" + str(I)\n",
    "    for i in range(1, n):\n",
    "        I /= i\n",
    "        num += \" - \" + str(I) + \"*z**\" + str(i) \n",
    "    print(\"(\" + num + \")\" + denom)\n",
    "    return"
   ]
  },
  {
   "cell_type": "code",
   "execution_count": 2,
   "id": "389e9b13",
   "metadata": {},
   "outputs": [
    {
     "name": "stdout",
     "output_type": "stream",
     "text": [
      "(87178291200*np.exp(z) - 87178291200 - 87178291200.0*z**1 - 43589145600.0*z**2 - 14529715200.0*z**3 - 3632428800.0*z**4 - 726485760.0*z**5 - 121080960.0*z**6 - 17297280.0*z**7 - 2162160.0*z**8 - 240240.0*z**9 - 24024.0*z**10 - 2184.0*z**11 - 182.0*z**12 - 14.0*z**13 - 1.0*z**14)/(87178291200*z**15)\n"
     ]
    }
   ],
   "source": [
    "gen_explicit_formulae(15)"
   ]
  },
  {
   "cell_type": "code",
   "execution_count": 12,
   "id": "9579e6f1",
   "metadata": {},
   "outputs": [
    {
     "name": "stdout",
     "output_type": "stream",
     "text": [
      "(39916800.0*std::exp(z) - 39916800.0 - 39916800.0*z - 19958400.0*z*z - 6652800.0*z*z*z - 1663200.0*z*z*z*z - 332640.0*z*z*z*z*z - 55440.0*z*z*z*z*z*z - 7920.0*z*z*z*z*z*z*z - 990.0*z*z*z*z*z*z*z*z - 110.0*z*z*z*z*z*z*z*z*z - 11.0*z*z*z*z*z*z*z*z*z*z - 1.0*z*z*z*z*z*z*z*z*z*z*z)/(39916800.0*z*z*z*z*z*z*z*z*z*z*z*z)\n"
     ]
    }
   ],
   "source": [
    "def gen_explicit_formulae(n):\n",
    "    I = float(np.math.factorial(n-1))\n",
    "    denom = \"/(\" + str(I) + \"*z\"*n + \")\"\n",
    "    num = str(I) + \"*std::exp(z) - \" + str(I)\n",
    "    for i in range(1, n):\n",
    "        I /= i\n",
    "        num += \" - \" + str(I) + \"*z\"*i\n",
    "    print(\"(\" + num + \")\" + denom)\n",
    "    return\n",
    "\n",
    "gen_explicit_formulae(12)"
   ]
  }
 ],
 "metadata": {
  "kernelspec": {
   "display_name": "Python 3 (ipykernel)",
   "language": "python",
   "name": "python3"
  },
  "language_info": {
   "codemirror_mode": {
    "name": "ipython",
    "version": 3
   },
   "file_extension": ".py",
   "mimetype": "text/x-python",
   "name": "python",
   "nbconvert_exporter": "python",
   "pygments_lexer": "ipython3",
   "version": "3.10.13"
  }
 },
 "nbformat": 4,
 "nbformat_minor": 5
}
